{
 "cells": [
  {
   "cell_type": "code",
   "execution_count": 15,
   "metadata": {},
   "outputs": [],
   "source": [
    "import numpy as np\n",
    "import matplotlib.pyplot as plt\n",
    "from netCDF4 import Dataset\n",
    "import pandas as pd"
   ]
  },
  {
   "cell_type": "code",
   "execution_count": 2,
   "metadata": {
    "scrolled": true
   },
   "outputs": [
    {
     "name": "stdout",
     "output_type": "stream",
     "text": [
      "Requirement already satisfied: netCDF4 in /Users/amritaparab/opt/anaconda3/lib/python3.8/site-packages (1.5.4)\n",
      "Requirement already satisfied: cftime in /Users/amritaparab/opt/anaconda3/lib/python3.8/site-packages (from netCDF4) (1.2.1)\n",
      "Requirement already satisfied: numpy>=1.9 in /Users/amritaparab/opt/anaconda3/lib/python3.8/site-packages (from netCDF4) (1.18.5)\n"
     ]
    }
   ],
   "source": [
    "import sys\n",
    "!{sys.executable} -m pip install netCDF4"
   ]
  },
  {
   "cell_type": "code",
   "execution_count": 16,
   "metadata": {},
   "outputs": [],
   "source": [
    "tmin_dat = \"tmn.dat.nc\"\n",
    "tmax_dat = \"tmx.dat.nc\"\n",
    "temp_dat = \"tmp.dat.nc\"\n",
    "prec_dat = \"pre.dat.nc\"\n",
    "\n",
    "tmin = Dataset(tmin_dat)\n",
    "tmax = Dataset(tmax_dat)\n",
    "temp = Dataset(temp_dat)\n",
    "prec = Dataset(prec_dat)"
   ]
  },
  {
   "cell_type": "code",
   "execution_count": 17,
   "metadata": {},
   "outputs": [
    {
     "name": "stdout",
     "output_type": "stream",
     "text": [
      "dict_keys(['lon', 'lat', 'time', 'tmn', 'stn'])\n",
      "dict_keys(['lon', 'lat', 'time', 'tmx', 'stn'])\n",
      "dict_keys(['lon', 'lat', 'time', 'tmp', 'stn'])\n",
      "dict_keys(['lon', 'lat', 'time', 'pre', 'stn'])\n"
     ]
    }
   ],
   "source": [
    "print(tmin.variables.keys())\n",
    "print(tmax.variables.keys())\n",
    "print(temp.variables.keys())\n",
    "print(prec.variables.keys())\n"
   ]
  },
  {
   "cell_type": "code",
   "execution_count": 18,
   "metadata": {},
   "outputs": [],
   "source": [
    "lat1 = tmin.variables['lat'][:]\n",
    "lon1 = tmin.variables['lon'][:]\n",
    "\n",
    "lat2 = tmax.variables['lat'][:]\n",
    "lon2 = tmax.variables['lon'][:]\n",
    "\n",
    "lat3 = temp.variables['lat'][:]\n",
    "lon3 = temp.variables['lon'][:]\n",
    "\n",
    "lat4 = prec.variables['lat'][:]\n",
    "lon4 = prec.variables['lon'][:]"
   ]
  },
  {
   "cell_type": "code",
   "execution_count": 19,
   "metadata": {},
   "outputs": [],
   "source": [
    "lat_Kabul = 34.5553\n",
    "lon_Kabul = 69.2075\n",
    "\n",
    "lat_Ghazini = 33.5451\n",
    "lon_Ghazini = 68.4174\n",
    "\n",
    "lat_Kunduz = 36.7286\n",
    "lon_Kunduz = 68.8681"
   ]
  },
  {
   "cell_type": "code",
   "execution_count": 20,
   "metadata": {},
   "outputs": [],
   "source": [
    "### Squared difference of latitude and longitude for Kabul\n",
    "ka_sq_diff_lat1 = (lat1 - lat_Kabul)**2\n",
    "ka_sq_diff_lon1 = (lon1 - lat_Kabul)**2\n",
    "\n",
    "ka_sq_diff_lat2 = (lat2 - lat_Kabul)**2\n",
    "ka_sq_diff_lon2 = (lon2 - lon_Kabul)**2\n",
    "\n",
    "ka_sq_diff_lat3 = (lat3 - lat_Kabul)**2\n",
    "ka_sq_diff_lon3 = (lon3 - lon_Kabul)**2\n",
    "\n",
    "ka_sq_diff_lat4 = (lat4 - lat_Kabul)**2\n",
    "ka_sq_diff_lon4 = (lon4 - lon_Kabul)**2\n",
    "\n",
    "### Squared difference of latitude and longitude for Ghazini\n",
    "gsq_diff_lat1 = (lat1 - lat_Ghazini)**2\n",
    "gsq_diff_lon1 = (lon1 - lon_Ghazini)**2\n",
    "\n",
    "gsq_diff_lat2 = (lat2 - lat_Ghazini)**2\n",
    "gsq_diff_lon2 = (lon2 - lon_Ghazini)**2\n",
    "\n",
    "gsq_diff_lat3 = (lat3 - lat_Ghazini)**2\n",
    "gsq_diff_lon3 = (lon3 - lon_Ghazini)**2\n",
    "\n",
    "gsq_diff_lat4 = (lat4 - lat_Ghazini)**2\n",
    "gsq_diff_lon4 = (lon4 - lon_Ghazini)**2\n",
    "\n",
    "### Squared difference of latitude and longitude for Kunduz\n",
    "ku_sq_diff_lat1 = (lat1 - lat_Kunduz)**2\n",
    "ku_sq_diff_lon1 = (lon1 - lon_Kunduz)**2\n",
    "\n",
    "ku_sq_diff_lat2 = (lat2 - lat_Kunduz)**2\n",
    "ku_sq_diff_lon2 = (lon2 - lon_Kunduz)**2\n",
    "\n",
    "ku_sq_diff_lat3 = (lat3 - lat_Kunduz)**2\n",
    "ku_sq_diff_lon3 = (lon3 - lon_Kunduz)**2\n",
    "\n",
    "ku_sq_diff_lat4 = (lat4 - lat_Kunduz)**2\n",
    "ku_sq_diff_lon4 = (lon4 - lon_Kunduz)**2\n",
    "\n"
   ]
  },
  {
   "cell_type": "code",
   "execution_count": 21,
   "metadata": {},
   "outputs": [],
   "source": [
    "\n",
    "\n",
    "### Identify index of min value for lat and lon of Kabul\n",
    "ka_min_index_lat1 = ka_sq_diff_lat1.argmin()\n",
    "ka_min_index_lon1 = ka_sq_diff_lon1.argmin()\n",
    "\n",
    "ka_min_index_lat2 = ka_sq_diff_lat2.argmin()\n",
    "ka_min_index_lon2 = ka_sq_diff_lon2.argmin()\n",
    "\n",
    "ka_min_index_lat3 = ka_sq_diff_lat3.argmin()\n",
    "ka_min_index_lon3 = ka_sq_diff_lon3.argmin()\n",
    "\n",
    "ka_min_index_lat4 = ka_sq_diff_lat4.argmin()\n",
    "ka_min_index_lon4 = ka_sq_diff_lon4.argmin()\n",
    "\n",
    "### Identify index of min value for lat and lon of Ghazini\n",
    "g_min_index_lat1 = gsq_diff_lat1.argmin()\n",
    "g_min_index_lon1 = gsq_diff_lon1.argmin()\n",
    "\n",
    "g_min_index_lat2 = gsq_diff_lat2.argmin()\n",
    "g_min_index_lon2 = gsq_diff_lon2.argmin()\n",
    "\n",
    "g_min_index_lat3 = gsq_diff_lat3.argmin()\n",
    "g_min_index_lon3 = gsq_diff_lon3.argmin()\n",
    "\n",
    "g_min_index_lat4 = gsq_diff_lat4.argmin()\n",
    "g_min_index_lon4 = gsq_diff_lon4.argmin()\n",
    "\n",
    "### Identify index of min value for lat and lon of Kunduz\n",
    "ku_min_index_lat1 = ku_sq_diff_lat1.argmin()\n",
    "ku_min_index_lon1 = ku_sq_diff_lon1.argmin()\n",
    "\n",
    "ku_min_index_lat2 = ku_sq_diff_lat2.argmin()\n",
    "ku_min_index_lon2 = ku_sq_diff_lon2.argmin()\n",
    "\n",
    "ku_min_index_lat3 = ku_sq_diff_lat3.argmin()\n",
    "ku_min_index_lon3 = ku_sq_diff_lon3.argmin()\n",
    "\n",
    "ku_min_index_lat4 = ku_sq_diff_lat4.argmin()\n",
    "ku_min_index_lon4 = ku_sq_diff_lon4.argmin()\n",
    "\n",
    "\n"
   ]
  },
  {
   "cell_type": "code",
   "execution_count": 13,
   "metadata": {},
   "outputs": [],
   "source": [
    "#### min for all 3 districts\n",
    "\n",
    "###1.Create empty dataframe for Kabul district\n",
    "\n",
    "\n",
    "temp1_ka = tmin.variables['tmn']\n",
    "temp2_ka = tmax.variables['tmx']\n",
    "temp3_ka = temp.variables['tmp']\n",
    "temp4_ka = prec.variables['pre']\n",
    "\n",
    "starting_date_tmin = tmin.variables['time'].units[11:21]\n",
    "ending_date_tmin = '2019-12-31'\n",
    "\n",
    "starting_date_tmax = tmax.variables['time'].units[11:21]\n",
    "ending_date_tmax = '2019-12-31'\n",
    "\n",
    "starting_date_tmp = temp.variables['time'].units[11:21]\n",
    "ending_date_tmp = '2019-12-31'\n",
    "\n",
    "starting_date_prec = prec.variables['time'].units[11:21]\n",
    "ending_date_prec = '2019-12-31'\n",
    "\n",
    "\n",
    "date_range1 = pd.date_range(start = starting_date_tmin, end = ending_date_tmin )\n",
    "date_range2 = pd.date_range(start = starting_date_tmax, end = ending_date_tmax )\n",
    "date_range3 = pd.date_range(start = starting_date_tmp, end = ending_date_tmp )\n",
    "date_range4 = pd.date_range(start = starting_date_prec, end = ending_date_prec )\n",
    "\n",
    "## Dataframes for Kabul\n",
    "df1_min = pd.DataFrame(0, columns = ['tmin'], index = date_range1 )\n",
    "df1_max = pd.DataFrame(0, columns = ['tmax'], index = date_range2 )\n",
    "df1_tmp = pd.DataFrame(0, columns = ['tmp'], index = date_range3 )\n",
    "df1_prec = pd.DataFrame(0, columns = ['prec'], index = date_range4 )\n",
    "\n",
    "\n",
    "dt1_min = np.arange(0,tmin.variables['time'].size)\n",
    "dt1_max = np.arange(0,tmax.variables['time'].size)\n",
    "dt1_tmp = np.arange(0,temp.variables['time'].size)\n",
    "dt1_prec = np.arange(0,prec.variables['time'].size)\n",
    "\n",
    "for time_index in dt1_min:\n",
    "    df1_min.iloc[time_index] = temp1_ka[time_index, ka_min_index_lat1, ka_min_index_lon1 ]\n",
    "for time_index in dt1_max:\n",
    "    df1_max.iloc[time_index] = temp2_ka[time_index, ka_min_index_lat2, ka_min_index_lon2 ]\n",
    "for time_index in dt1_tmp:\n",
    "    df1_tmp.iloc[time_index] = temp3_ka[time_index, ka_min_index_lat3, ka_min_index_lon3 ]\n",
    "for time_index in dt1_prec:\n",
    "    df1_prec.iloc[time_index] = temp4_ka[time_index, ka_min_index_lat4, ka_min_index_lon4 ]\n"
   ]
  },
  {
   "cell_type": "code",
   "execution_count": 35,
   "metadata": {},
   "outputs": [
    {
     "name": "stderr",
     "output_type": "stream",
     "text": [
      "/Users/amritaparab/opt/anaconda3/lib/python3.8/site-packages/pandas/core/internals/blocks.py:920: UserWarning: Warning: converting a masked element to nan.\n",
      "  values[indexer] = value\n"
     ]
    }
   ],
   "source": [
    "temp1_ka = tmin.variables['tmn']\n",
    "temp2_ka = tmax.variables['tmx']\n",
    "temp3_ka = temp.variables['tmp']\n",
    "temp4_ka = prec.variables['pre']\n",
    "\n",
    "starting_date_tmin = tmin.variables['time'].units[11:21]\n",
    "ending_date_tmin = '2019-12-31'\n",
    "\n",
    "starting_date_tmax = tmax.variables['time'].units[11:21]\n",
    "ending_date_tmax = '2019-12-31'\n",
    "\n",
    "starting_date_tmp = temp.variables['time'].units[11:21]\n",
    "ending_date_tmp = '2019-12-31'\n",
    "\n",
    "starting_date_prec = prec.variables['time'].units[11:21]\n",
    "ending_date_prec = '2019-12-31'\n",
    "\n",
    "\n",
    "date_range1 = pd.date_range(start = starting_date_tmin, end = ending_date_tmin )\n",
    "date_range2 = pd.date_range(start = starting_date_tmax, end = ending_date_tmax )\n",
    "date_range3 = pd.date_range(start = starting_date_tmp, end = ending_date_tmp )\n",
    "date_range4 = pd.date_range(start = starting_date_prec, end = ending_date_prec )\n",
    "\n",
    "## Dataframes for Kabul\n",
    "df1_min = pd.DataFrame(0, columns = ['tmin'], index = date_range1 )\n",
    "df1_max = pd.DataFrame(0, columns = ['tmax'], index = date_range2 )\n",
    "df1_tmp = pd.DataFrame(0, columns = ['tmp'], index = date_range3 )\n",
    "df1_prec = pd.DataFrame(0, columns = ['prec'], index = date_range4 )\n",
    "\n",
    "\n",
    "dt1_min = np.arange(0,tmin.variables['time'].size)\n",
    "dt1_max = np.arange(0,tmax.variables['time'].size)\n",
    "dt1_tmp = np.arange(0,temp.variables['time'].size)\n",
    "dt1_prec = np.arange(0,prec.variables['time'].size)\n",
    "\n",
    "for time_index1 in dt1_min:\n",
    "    df1_min.iloc[time_index1] = temp1_ka[time_index1, ka_min_index_lat1, ka_min_index_lon1 ]\n",
    "for time_index2 in dt1_max:\n",
    "    df1_max.iloc[time_index2] = temp2_ka[time_index2, ka_min_index_lat2, ka_min_index_lon2 ]\n",
    "for time_index3 in dt1_tmp:\n",
    "    df1_tmp.iloc[time_index3] = temp3_ka[time_index3, ka_min_index_lat3, ka_min_index_lon3 ]\n",
    "for time_index4 in dt1_prec:\n",
    "    df1_prec.iloc[time_index4] = temp4_ka[time_index4, ka_min_index_lat4, ka_min_index_lon4 ]\n"
   ]
  },
  {
   "cell_type": "code",
   "execution_count": null,
   "metadata": {},
   "outputs": [],
   "source": [
    "### Export to csv for Kabul\n",
    "df1_min.to_csv('Kabul_min.csv')\n",
    "df1_max.to_csv('Kabul_max.csv')\n",
    "df1_tmp.to_csv('Kabul_tmp.csv')\n",
    "df1_prec.to_csv('Kabul_prec.csv')"
   ]
  }
 ],
 "metadata": {
  "kernelspec": {
   "display_name": "Python 3",
   "language": "python",
   "name": "python3"
  },
  "language_info": {
   "codemirror_mode": {
    "name": "ipython",
    "version": 3
   },
   "file_extension": ".py",
   "mimetype": "text/x-python",
   "name": "python",
   "nbconvert_exporter": "python",
   "pygments_lexer": "ipython3",
   "version": "3.8.3"
  }
 },
 "nbformat": 4,
 "nbformat_minor": 4
}
